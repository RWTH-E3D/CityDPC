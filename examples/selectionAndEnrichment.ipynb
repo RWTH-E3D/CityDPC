{
 "cells": [
  {
   "cell_type": "markdown",
   "id": "cecce6af",
   "metadata": {},
   "source": [
    "# Use Case 1: Selecting and enriching specified buildings\n",
    "\n",
    "## Get existing data set\n",
    "In this example we used data from the [GEOportal.NRW](https://www.geoportal.nrw/?activetab=map)."
   ]
  },
  {
   "cell_type": "markdown",
   "id": "efeffac5",
   "metadata": {},
   "source": [
    "### Importing need libraries"
   ]
  },
  {
   "cell_type": "code",
   "execution_count": 1,
   "id": "37342130",
   "metadata": {},
   "outputs": [],
   "source": [
    "from citydpc import Dataset\n",
    "from citydpc.core.input.citygmlInput import load_buildings_from_xml_file\n",
    "from citydpc.tools import cityATB\n",
    "import glob"
   ]
  },
  {
   "cell_type": "markdown",
   "id": "75358cae",
   "metadata": {},
   "source": [
    "### Loading all files"
   ]
  },
  {
   "cell_type": "code",
   "execution_count": null,
   "id": "f3ef1951",
   "metadata": {},
   "outputs": [],
   "source": [
    "# create empty dataset\n",
    "dataset = Dataset()\n",
    "\n",
    "# get all citygml files in the folder\n",
    "files = glob.glob('files/3d-gm_lod2_kacheln/*.gml')\n",
    "for file in files:\n",
    "    load_buildings_from_xml_file(dataset, file)\n",
    "print(f\"The dataset hast {len(dataset)} buildings\")"
   ]
  },
  {
   "cell_type": "markdown",
   "id": "61ab842d",
   "metadata": {},
   "source": [
    "## Searching using CityATB\n",
    "\n",
    "### Searching using addresses"
   ]
  },
  {
   "cell_type": "code",
   "execution_count": null,
   "id": "a4e96585",
   "metadata": {},
   "outputs": [],
   "source": [
    "streetNameDataset = cityATB.search_dataset(dataset, addressRestriciton={\"thoroughfareName\": \"Stakenholt\"})\n",
    "len(streetNameDataset)"
   ]
  },
  {
   "cell_type": "markdown",
   "id": "fe45038c",
   "metadata": {},
   "source": [
    "### Searching using border coordinates"
   ]
  },
  {
   "cell_type": "code",
   "execution_count": null,
   "id": "2c55f344",
   "metadata": {},
   "outputs": [],
   "source": [
    "# you can also create a coordinate border using the borderCoordinates argument\n",
    "borderCoorDataset = cityATB.search_dataset(dataset, borderCoordinates=[[360057.31, 5706881.64], [360057.31, 5706267.41], [359792.94, 5706267.41], [359792.94, 5706881.64]])\n",
    "len(borderCoorDataset)"
   ]
  },
  {
   "cell_type": "markdown",
   "id": "5e6cbb56",
   "metadata": {},
   "source": [
    "### Combined search"
   ]
  },
  {
   "cell_type": "code",
   "execution_count": null,
   "id": "ac31ec05",
   "metadata": {},
   "outputs": [],
   "source": [
    "# you can also do both operations at the same time (and even in the load_buildings_from_xml_file function)\n",
    "combinedSearchDataset = cityATB.search_dataset(\n",
    "    dataset,\n",
    "    borderCoordinates=[[360057.31, 5706881.64], [360057.31, 5706267.41], [359792.94, 5706267.41], [359792.94, 5706881.64]],\n",
    "    addressRestriciton={\"thoroughfareName\": \"Stakenholt\"},\n",
    ")\n",
    "len(combinedSearchDataset)"
   ]
  },
  {
   "cell_type": "markdown",
   "id": "578814b0",
   "metadata": {},
   "source": [
    "### Enriching with semantic information"
   ]
  },
  {
   "cell_type": "code",
   "execution_count": 8,
   "id": "faa7f3b9",
   "metadata": {},
   "outputs": [],
   "source": [
    "# set the year of construction and the number of storeys above ground\n",
    "# for every building in the dataset\n",
    "for building in combinedSearchDataset.get_building_list():\n",
    "    building.yearOfConstruction = 1970\n",
    "    building.storeysAboveGround = 3"
   ]
  },
  {
   "cell_type": "markdown",
   "id": "9874a6a3",
   "metadata": {},
   "source": [
    "## Move buildings to different positon"
   ]
  },
  {
   "cell_type": "code",
   "execution_count": 9,
   "id": "2256f95a",
   "metadata": {},
   "outputs": [],
   "source": [
    "from citydpc.tools import cityGTV\n",
    "\n",
    "# transform dataset (only moving with dataset in this case)\n",
    "movedDataset = cityGTV.transform_dataset(\n",
    "    combinedSearchDataset,\n",
    "    \"epsg:5555\",\n",
    "    \"epsg:5555\",\n",
    "    (324219.701, 5641681.61),\n",
    "    (360133.335, 5706839.754),\n",
    "    rotAngle=0,\n",
    "    eleChange=0,\n",
    ")"
   ]
  },
  {
   "cell_type": "markdown",
   "id": "5fb245a9",
   "metadata": {},
   "source": [
    "## Save dataset to CityGML file"
   ]
  },
  {
   "cell_type": "code",
   "execution_count": 12,
   "id": "6c3ebed5",
   "metadata": {},
   "outputs": [],
   "source": [
    "from citydpc.core.output.citygmlOutput import write_citygml_file\n",
    "\n",
    "# set SRS of the dataset\n",
    "movedDataset.srsName = \"epsg:5555\"\n",
    "write_citygml_file(movedDataset, \"reducedEnrichedMovedDataset.gml\")"
   ]
  }
 ],
 "metadata": {
  "kernelspec": {
   "display_name": "Python 3 (ipykernel)",
   "language": "python",
   "name": "python3"
  },
  "language_info": {
   "codemirror_mode": {
    "name": "ipython",
    "version": 3
   },
   "file_extension": ".py",
   "mimetype": "text/x-python",
   "name": "python",
   "nbconvert_exporter": "python",
   "pygments_lexer": "ipython3",
   "version": "3.10.4"
  }
 },
 "nbformat": 4,
 "nbformat_minor": 5
}
