{
 "cells": [
  {
   "cell_type": "markdown",
   "id": "cecce6af",
   "metadata": {},
   "source": [
    "# Use Case 2: Creating buildings from Overpass turbo API query\n",
    "\n",
    "## Create a query\n",
    "Shown below is a query for a some buildings in Bedburg:\n",
    "```json\n",
    "[out:json];\n",
    "(\n",
    "  way[\"building\"](poly:\"51.009961 6.551451 51.010646 6.550679 51.010329 6.549949 51.009559 6.550722\");\n",
    ");\n",
    "out body;\n",
    ">;\n",
    "out skel qt;\n",
    "```\n",
    "\n",
    "If you are using [overpass turbo](https://overpass-turbo.eu/) you can use the map to make sure you got the right area and all wanted buildings are showing up. If you switch to the \"data\" tab you get your query result as a json file which should something like this:\n",
    "\n",
    "```json\n",
    "{\n",
    "    \"version\": 0.6,\n",
    "    \"generator\": \"Overpass API 0.7.62.1 084b4234\",\n",
    "    \"osm3s\": {\n",
    "        \"timestamp_osm_base\": \"2024-09-18T14:03:30Z\",\n",
    "        \"copyright\": \"The data included in this document is from www.openstreetmap.org. The data is made available under ODbL.\"\n",
    "    },\n",
    "    \"elements\": [\n",
    "        {\n",
    "            \"type\": \"way\",\n",
    "            \"id\": 1194286054,\n",
    "            \"nodes\": [\n",
    "                11085711206,\n",
    "                11085711205,\n",
    "                11085711204,\n",
    "                11085711203,\n",
    "                11085711206\n",
    "            ],\n",
    "            \"tags\": {\n",
    "                \"building\": \"garage\"\n",
    "            }\n",
    "        },\n",
    "...\n",
    "        {\n",
    "            \"type\": \"node\",\n",
    "            \"id\": 11085711297,\n",
    "            \"lat\": 51.0099692,\n",
    "            \"lon\": 6.5505769\n",
    "        }\n",
    "    ]\n",
    "}\n",
    "```\n",
    "with elements of type \"nodes\" representing coordinates and \"way\" representing buildings.\n",
    "We safe the results to a ```exampleQeury.json``` file."
   ]
  },
  {
   "cell_type": "markdown",
   "id": "6c44a288",
   "metadata": {},
   "source": [
    "## Code"
   ]
  },
  {
   "cell_type": "markdown",
   "id": "efeffac5",
   "metadata": {},
   "source": [
    "### Importing need libraries"
   ]
  },
  {
   "cell_type": "code",
   "execution_count": 1,
   "id": "37342130",
   "metadata": {},
   "outputs": [],
   "source": [
    "from citydpc import Dataset\n",
    "import json\n",
    "from citydpc.tools import cityBIT\n",
    "from citydpc.core.output import cityjsonOutput\n",
    "from pyproj import Transformer"
   ]
  },
  {
   "cell_type": "markdown",
   "id": "75358cae",
   "metadata": {},
   "source": [
    "### Loading query"
   ]
  },
  {
   "cell_type": "code",
   "execution_count": 2,
   "id": "f3ef1951",
   "metadata": {},
   "outputs": [],
   "source": [
    "with open(\"exampleQuery.json\") as f:\n",
    "    osmQuery = json.load(f)"
   ]
  },
  {
   "cell_type": "markdown",
   "id": "e625f5bb",
   "metadata": {},
   "source": [
    "We also create an empty CityDPC dataset and a coordinate transformer to transform the query results from epsg:4325 to our local coordinate system epsg:5555."
   ]
  },
  {
   "cell_type": "code",
   "execution_count": 3,
   "id": "96fab327",
   "metadata": {},
   "outputs": [],
   "source": [
    "dataset = Dataset()\n",
    "t = Transformer.from_crs(\"epsg:4326\", \"epsg:5555\")"
   ]
  },
  {
   "cell_type": "markdown",
   "id": "61ab842d",
   "metadata": {},
   "source": [
    "## Creating building objects"
   ]
  },
  {
   "cell_type": "code",
   "execution_count": 4,
   "id": "a4e96585",
   "metadata": {},
   "outputs": [],
   "source": [
    "# split query into dict of nodes and ways for easier access\n",
    "nodes = {}\n",
    "ways = {}\n",
    "for element in osmQuery[\"elements\"]:\n",
    "    if element[\"type\"] == \"node\":\n",
    "        nodes[element[\"id\"]] = element\n",
    "    elif element[\"type\"] == \"way\":\n",
    "        ways[element[\"id\"]] = element\n",
    "\n",
    "# transform all nodes to local coordinate system\n",
    "for node in nodes.values():\n",
    "    lat, lon = t.transform(node[\"lat\"], node[\"lon\"])\n",
    "    node[\"lat\"] = round(lat, 3)\n",
    "    node[\"lon\"] = round(lon, 3)\n",
    "\n",
    "# iterate over ways and create building objects\n",
    "for bID, obj in ways.items():\n",
    "    coordinates = []\n",
    "    # iterate over nodes and append them to the coordinates list\n",
    "    for node in obj[\"nodes\"]:\n",
    "        coordinates.append([nodes[node][\"lat\"], nodes[node][\"lon\"]])\n",
    "    # create building object with a ground surface height of 160m and \n",
    "    # building height of 10m with a flat roof (code: \"1000\")\n",
    "    buildingHeight = 10\n",
    "    if obj[\"tags\"][\"building\"] == \"garage\":\n",
    "        buildingHeight = 4\n",
    "    building = cityBIT.create_LoD2_building(str(bID), coordinates, 160, buildingHeight, \"1000\")\n",
    "    # add building object to dataset\n",
    "    dataset.add_building(building)\n"
   ]
  },
  {
   "cell_type": "markdown",
   "id": "5452347f",
   "metadata": {},
   "source": [
    "## Moving created buildings using CityGTV"
   ]
  },
  {
   "cell_type": "code",
   "execution_count": 5,
   "id": "2142656e",
   "metadata": {},
   "outputs": [],
   "source": [
    "from citydpc.tools import cityGTV\n",
    "\n",
    "# transform dataset (only moving with dataset in this case)\n",
    "movedDataset = cityGTV.transform_dataset(\n",
    "    dataset,\n",
    "    \"epsg:5555\",\n",
    "    \"epsg:5555\",\n",
    "    (360133.335, 5706839.754),\n",
    "    (324219.701, 5641681.61),\n",
    "    rotAngle=0,\n",
    "    eleChange=0,\n",
    ")"
   ]
  },
  {
   "cell_type": "markdown",
   "id": "31dc7499",
   "metadata": {},
   "source": [
    "## Saving dataset to CityJSON"
   ]
  },
  {
   "cell_type": "code",
   "execution_count": 6,
   "id": "3d0938bc",
   "metadata": {},
   "outputs": [],
   "source": [
    "# call function for export and set new file name\n",
    "cityjsonOutput.write_cityjson_file(movedDataset, \"transformed.gml\", referenceSystem=\"https://www.opengis.net/def/crs/EPSG/0/5555\")"
   ]
  }
 ],
 "metadata": {
  "kernelspec": {
   "display_name": "Python 3 (ipykernel)",
   "language": "python",
   "name": "python3"
  },
  "language_info": {
   "codemirror_mode": {
    "name": "ipython",
    "version": 3
   },
   "file_extension": ".py",
   "mimetype": "text/x-python",
   "name": "python",
   "nbconvert_exporter": "python",
   "pygments_lexer": "ipython3",
   "version": "3.10.4"
  }
 },
 "nbformat": 4,
 "nbformat_minor": 5
}
